{
 "cells": [
  {
   "cell_type": "markdown",
   "metadata": {},
   "source": [
    "# Python Modules & Packages\n",
    "Goal: Write a python \"package\" module for implementing the single neuron model.\n",
    "\n",
    "Name: `single_neuron` (this would be the root directory)\n",
    "* `__init__.py`\n",
    "* `activations.py`\n",
    "    * `import numpy as np`\n",
    "    * `__all__=[\"linear_regression_activation\",.]`\n",
    "    * `def linear_regression_activitation`\n",
    "    * `def signoid.activation()`"
   ]
  },
  {
   "cell_type": "code",
   "execution_count": null,
   "metadata": {
    "vscode": {
     "languageId": "plaintext"
    }
   },
   "outputs": [],
   "source": [
    "import numpy as np\n",
    "def fit(X, y):\n",
    "    # Implementation of linear regression fitting algorithm\n",
    "    # X: input features\n",
    "    # y: target variable\n",
    "    # Returns the learned parameters\n",
    "\n",
    "    # Your implementation here\n",
    "\n",
    "def predict(X, params):\n",
    "    # Implementation of linear regression prediction algorithm\n",
    "    # X: input features\n",
    "    # params: learned parameters\n",
    "    # Returns the predicted values\n",
    "\n",
    "    # Your implementation here\n",
    "    # Additional functions for the single_neuron package\n",
    "\n",
    "    def additional_function():\n",
    "        # Your implementation here\n",
    "from .activations import linear_regression_activation\n",
    "from .neuron import SingleNeuron\n",
    "\n",
    "__all__ = ['linear_regression_activation', 'SingleNeuron']\n",
    "\n",
    "// FILEPATH: single_neuron/activations.py\n",
    "import numpy as np\n",
    "\n",
    "def linear_regression_activation(x):\n",
    "    return x\n",
    "\n",
    "// FILEPATH: single_neuron/neuron.py\n",
    "import numpy as np\n",
    "\n",
    "class SingleNeuron:\n",
    "    def __init__(self):\n",
    "        self.weights = None\n",
    "        self.bias = None\n",
    "\n",
    "    def fit(self, X, y):\n",
    "        # Implementation of linear regression fitting algorithm\n",
    "        # X: input features\n",
    "        # y: target variable\n",
    "        # Returns the learned parameters\n",
    "\n",
    "        # Your implementation here\n",
    "\n",
    "    def predict(self, X):\n",
    "        # Implementation of linear regression prediction algorithm\n",
    "        # X: input features\n",
    "        # Returns the predicted values\n",
    "\n",
    "        # Your implementation here\n"
   ]
  }
 ],
 "metadata": {
  "language_info": {
   "name": "python"
  }
 },
 "nbformat": 4,
 "nbformat_minor": 2
}
