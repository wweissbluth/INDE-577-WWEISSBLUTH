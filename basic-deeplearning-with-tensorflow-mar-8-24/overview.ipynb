{
 "cells": [
  {
   "cell_type": "markdown",
   "metadata": {},
   "source": [
    "# Basic Deeplearning with Tensorflow\n",
    "* Tensorflow is a high-level python package for deep learning (there is another called PyTorch but it's mostly used in academia and not primarily used in industry)\n",
    "* Makes Training deep learning models with GPU's and TPU's easy!\n"
   ]
  },
  {
   "cell_type": "markdown",
   "metadata": {},
   "source": []
  }
 ],
 "metadata": {
  "language_info": {
   "name": "python"
  }
 },
 "nbformat": 4,
 "nbformat_minor": 2
}
