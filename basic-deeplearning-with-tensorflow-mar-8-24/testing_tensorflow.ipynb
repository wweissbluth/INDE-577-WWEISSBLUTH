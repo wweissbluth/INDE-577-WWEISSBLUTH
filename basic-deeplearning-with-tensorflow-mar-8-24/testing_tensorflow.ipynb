{
  "nbformat": 4,
  "nbformat_minor": 0,
  "metadata": {
    "colab": {
      "provenance": []
    },
    "kernelspec": {
      "name": "python3",
      "display_name": "Python 3"
    },
    "language_info": {
      "name": "python"
    }
  },
  "cells": [
    {
      "cell_type": "markdown",
      "source": [
        "\n",
        "---\n",
        "# Classifying movie reviews: A Binary Classification Tesorflow example\n",
        "---"
      ],
      "metadata": {
        "id": "m0dyA3Dqf55-"
      }
    },
    {
      "cell_type": "code",
      "execution_count": 6,
      "metadata": {
        "colab": {
          "base_uri": "https://localhost:8080/"
        },
        "id": "Ib6JUI5Of1ID",
        "outputId": "6ea4f0c6-6100-481a-faf8-85fae3e7888e"
      },
      "outputs": [
        {
          "output_type": "stream",
          "name": "stdout",
          "text": [
            "Downloading data from https://storage.googleapis.com/tensorflow/tf-keras-datasets/imdb.npz\n",
            "17464789/17464789 [==============================] - 0s 0us/step\n"
          ]
        }
      ],
      "source": [
        "from tensorflow.keras.datasets import imdb\n",
        "\n",
        "import matplotlib.pyplot as plt\n",
        "import numpy as np\n",
        "\n",
        "(train_data, train_lables), (test_data, test_labels) = imdb.load_data(num_words=10_000)"
      ]
    },
    {
      "cell_type": "code",
      "source": [
        "print(f\"{train_data[0] = }\")"
      ],
      "metadata": {
        "colab": {
          "base_uri": "https://localhost:8080/"
        },
        "id": "1e_7WVYDglE6",
        "outputId": "b188ebf1-b380-4512-a59d-5838c33bb1a7"
      },
      "execution_count": 7,
      "outputs": [
        {
          "output_type": "stream",
          "name": "stdout",
          "text": [
            "train_data[0] = [1, 14, 22, 16, 43, 530, 973, 1622, 1385, 65, 458, 4468, 66, 3941, 4, 173, 36, 256, 5, 25, 100, 43, 838, 112, 50, 670, 2, 9, 35, 480, 284, 5, 150, 4, 172, 112, 167, 2, 336, 385, 39, 4, 172, 4536, 1111, 17, 546, 38, 13, 447, 4, 192, 50, 16, 6, 147, 2025, 19, 14, 22, 4, 1920, 4613, 469, 4, 22, 71, 87, 12, 16, 43, 530, 38, 76, 15, 13, 1247, 4, 22, 17, 515, 17, 12, 16, 626, 18, 2, 5, 62, 386, 12, 8, 316, 8, 106, 5, 4, 2223, 5244, 16, 480, 66, 3785, 33, 4, 130, 12, 16, 38, 619, 5, 25, 124, 51, 36, 135, 48, 25, 1415, 33, 6, 22, 12, 215, 28, 77, 52, 5, 14, 407, 16, 82, 2, 8, 4, 107, 117, 5952, 15, 256, 4, 2, 7, 3766, 5, 723, 36, 71, 43, 530, 476, 26, 400, 317, 46, 7, 4, 2, 1029, 13, 104, 88, 4, 381, 15, 297, 98, 32, 2071, 56, 26, 141, 6, 194, 7486, 18, 4, 226, 22, 21, 134, 476, 26, 480, 5, 144, 30, 5535, 18, 51, 36, 28, 224, 92, 25, 104, 4, 226, 65, 16, 38, 1334, 88, 12, 16, 283, 5, 16, 4472, 113, 103, 32, 15, 16, 5345, 19, 178, 32]\n"
          ]
        }
      ]
    },
    {
      "cell_type": "markdown",
      "source": [
        "These represent the words. E.g., the 14 is the 14th work etc."
      ],
      "metadata": {
        "id": "b0ryUsq5h3oy"
      }
    },
    {
      "cell_type": "code",
      "source": [
        "print(f\"{train_lables[0] = }\")"
      ],
      "metadata": {
        "colab": {
          "base_uri": "https://localhost:8080/"
        },
        "id": "pPiwIX-ahsuI",
        "outputId": "581b4853-a346-4067-ffba-d8e9e6418965"
      },
      "execution_count": 12,
      "outputs": [
        {
          "output_type": "stream",
          "name": "stdout",
          "text": [
            "train_lables[0] = 1\n"
          ]
        }
      ]
    },
    {
      "cell_type": "code",
      "source": [
        "print(f\"{len(train_data[0]) = }\")"
      ],
      "metadata": {
        "colab": {
          "base_uri": "https://localhost:8080/"
        },
        "id": "eYJaD4NHiA58",
        "outputId": "7855d4ee-3750-4c38-eaca-18ba2f1f2499"
      },
      "execution_count": 10,
      "outputs": [
        {
          "output_type": "stream",
          "name": "stdout",
          "text": [
            "len(train_data[0]) = 218\n"
          ]
        }
      ]
    },
    {
      "cell_type": "code",
      "source": [
        "print(f\"{len(train_data[1]) = }\")"
      ],
      "metadata": {
        "colab": {
          "base_uri": "https://localhost:8080/"
        },
        "id": "w-XRg2suiRwM",
        "outputId": "e71b093f-9b0d-4f70-d9c5-b80e5448b39d"
      },
      "execution_count": 11,
      "outputs": [
        {
          "output_type": "stream",
          "name": "stdout",
          "text": [
            "len(train_data[1]) = 189\n"
          ]
        }
      ]
    },
    {
      "cell_type": "markdown",
      "source": [
        "Notice that the inputs have different lengths. This is a problem and we'll need to learn how to navigate it."
      ],
      "metadata": {
        "id": "f-Mj8NeyiVLP"
      }
    },
    {
      "cell_type": "code",
      "source": [
        "word_index = imdb.get_word_index()\n",
        "reverse_word_index = dict([(value,key) for (key,value) in word_index.items()])\n",
        "\n",
        "decoded_review = \" \".join([\n",
        "    reverse_word_index.get(i-3,\"?\") for i in train_data[0]\n",
        "    # 0, 1, 2 are reserved for \"padding\", \"start\", and \"missing\" respectively\n",
        "])\n",
        "\n",
        "decoded_review"
      ],
      "metadata": {
        "colab": {
          "base_uri": "https://localhost:8080/",
          "height": 143
        },
        "id": "b_SeW4wGiUnA",
        "outputId": "27cf6486-66aa-44c0-ab8f-179b9e9f210f"
      },
      "execution_count": 18,
      "outputs": [
        {
          "output_type": "execute_result",
          "data": {
            "text/plain": [
              "\"? this film was just brilliant casting location scenery story direction everyone's really suited the part they played and you could just imagine being there robert ? is an amazing actor and now the same being director ? father came from the same scottish island as myself so i loved the fact there was a real connection with this film the witty remarks throughout the film were great it was just brilliant so much that i bought the film as soon as it was released for ? and would recommend it to everyone to watch and the fly fishing was amazing really cried at the end it was so sad and you know what they say if you cry at a film it must have been good and this definitely was also ? to the two little boy's that played the ? of norman and paul they were just brilliant children are often left out of the ? list i think because the stars that play them all grown up are such a big profile for the whole film but these children are amazing and should be praised for what they have done don't you think the whole story was so lovely because it was true and was someone's life after all that was shared with us all\""
            ],
            "application/vnd.google.colaboratory.intrinsic+json": {
              "type": "string"
            }
          },
          "metadata": {},
          "execution_count": 18
        }
      ]
    },
    {
      "cell_type": "markdown",
      "source": [
        "### Prepping the Data\n",
        "You can't directly feed list of integers into a neural network. They all have different lenghts, and a neural network expects to process contigious batches of data. Thus, we will need to first turn our lists into tensors. We can accomplish this in two ways:\n",
        "1. Pad your lists so that they all have the same length, turn them into integer tensors of shape (samples, max_length), and start your model with a lalyer capable of handling such integer tensors.\n",
        "2. *Multi-hot encodes* your lists to turn them into vectors of 0's and 1's. This would mean, for instance, turning the sequence [8,5] into a 10,000 dimentional vextor that would be all 0's except for indicies 8 and 5, which would be 1. Then you could use a `Dense` layer, capable of handling floating-point vector data, as the first layer in your model.\n",
        "\n",
        "We choose 2, and vectorize our data (manually) below."
      ],
      "metadata": {
        "id": "tBnLldhxmlN1"
      }
    },
    {
      "cell_type": "code",
      "source": [
        "def vectorize_sequences(sequences, dimension=10_000):\n",
        "  num_rows = len(sequences)\n",
        "  results = np.zeros((num_rows, dimension))\n",
        "  for i, sequence in enumerate(sequences):\n",
        "    for j in sequence:\n",
        "      results[i,j] = 1.0\n",
        "  return results\n",
        "\n",
        "x_train = vectorize_sequences(train_data)\n",
        "y_test = vectorize_sequences(test_data)"
      ],
      "metadata": {
        "id": "_S2XuJLjnXTx"
      },
      "execution_count": 19,
      "outputs": []
    },
    {
      "cell_type": "code",
      "source": [
        "print(x_train[0])"
      ],
      "metadata": {
        "colab": {
          "base_uri": "https://localhost:8080/"
        },
        "id": "lCR3CJ1Fn22c",
        "outputId": "d07619fa-898d-4fff-9057-13d0bfe5aeaa"
      },
      "execution_count": 21,
      "outputs": [
        {
          "output_type": "stream",
          "name": "stdout",
          "text": [
            "[0. 1. 1. ... 0. 0. 0.]\n"
          ]
        }
      ]
    },
    {
      "cell_type": "code",
      "source": [
        "from tensorflow import keras\n",
        "from tensorflow.keras import layers\n",
        "\n",
        "model = keras.Sequential([\n",
        "    layers.Dense(16, activation = \"relu\"),\n",
        "    layers.Dense(16, activation = \"relu\"),\n",
        "    layers.Dense(1, activation = \"sigmoid\"),\n",
        "])"
      ],
      "metadata": {
        "id": "pr092n-un6hz"
      },
      "execution_count": 24,
      "outputs": []
    },
    {
      "cell_type": "markdown",
      "source": [
        "Recall:\n",
        "\n",
        "* Preactivation on $z^2 = W^2x+b^2$\n",
        "* Postaction: $a = \\Phi(z)$\n",
        "\n",
        "* `train_data[i]` is the i-th encoded movie review"
      ],
      "metadata": {
        "id": "G7GCjQH5pLIR"
      }
    },
    {
      "cell_type": "code",
      "source": [
        "model.compile(\n",
        "    optimizer = \"rmsprop\",\n",
        "    loss=\"binary_crossentropy\",\n",
        "    metrics=[\"accuracy\"],\n",
        ")"
      ],
      "metadata": {
        "id": "8kpLjsCipK4o"
      },
      "execution_count": 26,
      "outputs": []
    },
    {
      "cell_type": "code",
      "source": [
        "y_train = np.asarray(train_lables).astype(\"float32\")\n",
        "y_test = np.asarray(test_labels).astype(\"float32\")\n",
        "\n",
        "y_train"
      ],
      "metadata": {
        "colab": {
          "base_uri": "https://localhost:8080/"
        },
        "id": "1xQSdqJ9pE_2",
        "outputId": "387d5899-79f5-4328-8a63-d54c3d594569"
      },
      "execution_count": 27,
      "outputs": [
        {
          "output_type": "execute_result",
          "data": {
            "text/plain": [
              "array([1., 0., 0., ..., 0., 1., 0.], dtype=float32)"
            ]
          },
          "metadata": {},
          "execution_count": 27
        }
      ]
    },
    {
      "cell_type": "code",
      "source": [
        "x_val, y_val = x_train[:10_000], y_train[:10_000]\n",
        "partial_x_train, partial_y_train = x_train[10_000:], y_train[10_000:]"
      ],
      "metadata": {
        "id": "-3JXxvFYr50M"
      },
      "execution_count": 28,
      "outputs": []
    },
    {
      "cell_type": "code",
      "source": [
        "history = model.fit(\n",
        "    partial_x_train,\n",
        "    partial_y_train,\n",
        "    epochs = 20,\n",
        "    batch_size = 512,\n",
        "    validation_data = (x_val, y_val)\n",
        ")"
      ],
      "metadata": {
        "colab": {
          "base_uri": "https://localhost:8080/"
        },
        "id": "rZHfHYhhsIV0",
        "outputId": "c64bfde4-fa99-4860-bd57-eed7fa5f7cbc"
      },
      "execution_count": 29,
      "outputs": [
        {
          "output_type": "stream",
          "name": "stdout",
          "text": [
            "Epoch 1/20\n",
            "30/30 [==============================] - 3s 69ms/step - loss: 0.5570 - accuracy: 0.7617 - val_loss: 0.4381 - val_accuracy: 0.8551\n",
            "Epoch 2/20\n",
            "30/30 [==============================] - 1s 33ms/step - loss: 0.3696 - accuracy: 0.8845 - val_loss: 0.3439 - val_accuracy: 0.8844\n",
            "Epoch 3/20\n",
            "30/30 [==============================] - 1s 33ms/step - loss: 0.2794 - accuracy: 0.9141 - val_loss: 0.3082 - val_accuracy: 0.8823\n",
            "Epoch 4/20\n",
            "30/30 [==============================] - 4s 136ms/step - loss: 0.2252 - accuracy: 0.9286 - val_loss: 0.2971 - val_accuracy: 0.8810\n",
            "Epoch 5/20\n",
            "30/30 [==============================] - 5s 165ms/step - loss: 0.1876 - accuracy: 0.9401 - val_loss: 0.2951 - val_accuracy: 0.8809\n",
            "Epoch 6/20\n",
            "30/30 [==============================] - 1s 50ms/step - loss: 0.1592 - accuracy: 0.9512 - val_loss: 0.2750 - val_accuracy: 0.8868\n",
            "Epoch 7/20\n",
            "30/30 [==============================] - 1s 37ms/step - loss: 0.1378 - accuracy: 0.9587 - val_loss: 0.2976 - val_accuracy: 0.8828\n",
            "Epoch 8/20\n",
            "30/30 [==============================] - 1s 36ms/step - loss: 0.1198 - accuracy: 0.9632 - val_loss: 0.3529 - val_accuracy: 0.8673\n",
            "Epoch 9/20\n",
            "30/30 [==============================] - 1s 44ms/step - loss: 0.1087 - accuracy: 0.9681 - val_loss: 0.2983 - val_accuracy: 0.8829\n",
            "Epoch 10/20\n",
            "30/30 [==============================] - 2s 51ms/step - loss: 0.0916 - accuracy: 0.9734 - val_loss: 0.3276 - val_accuracy: 0.8749\n",
            "Epoch 11/20\n",
            "30/30 [==============================] - 1s 32ms/step - loss: 0.0811 - accuracy: 0.9788 - val_loss: 0.3258 - val_accuracy: 0.8809\n",
            "Epoch 12/20\n",
            "30/30 [==============================] - 1s 32ms/step - loss: 0.0703 - accuracy: 0.9821 - val_loss: 0.3500 - val_accuracy: 0.8807\n",
            "Epoch 13/20\n",
            "30/30 [==============================] - 1s 48ms/step - loss: 0.0611 - accuracy: 0.9859 - val_loss: 0.3575 - val_accuracy: 0.8774\n",
            "Epoch 14/20\n",
            "30/30 [==============================] - 1s 48ms/step - loss: 0.0532 - accuracy: 0.9873 - val_loss: 0.3735 - val_accuracy: 0.8759\n",
            "Epoch 15/20\n",
            "30/30 [==============================] - 1s 37ms/step - loss: 0.0448 - accuracy: 0.9912 - val_loss: 0.3907 - val_accuracy: 0.8765\n",
            "Epoch 16/20\n",
            "30/30 [==============================] - 1s 38ms/step - loss: 0.0401 - accuracy: 0.9927 - val_loss: 0.4230 - val_accuracy: 0.8745\n",
            "Epoch 17/20\n",
            "30/30 [==============================] - 1s 33ms/step - loss: 0.0351 - accuracy: 0.9933 - val_loss: 0.4252 - val_accuracy: 0.8738\n",
            "Epoch 18/20\n",
            "30/30 [==============================] - 1s 31ms/step - loss: 0.0257 - accuracy: 0.9966 - val_loss: 0.4607 - val_accuracy: 0.8735\n",
            "Epoch 19/20\n",
            "30/30 [==============================] - 1s 32ms/step - loss: 0.0267 - accuracy: 0.9954 - val_loss: 0.4710 - val_accuracy: 0.8709\n",
            "Epoch 20/20\n",
            "30/30 [==============================] - 1s 30ms/step - loss: 0.0202 - accuracy: 0.9979 - val_loss: 0.4886 - val_accuracy: 0.8724\n"
          ]
        }
      ]
    },
    {
      "cell_type": "code",
      "source": [],
      "metadata": {
        "id": "jmAHCpKUsWn2"
      },
      "execution_count": null,
      "outputs": []
    }
  ]
}