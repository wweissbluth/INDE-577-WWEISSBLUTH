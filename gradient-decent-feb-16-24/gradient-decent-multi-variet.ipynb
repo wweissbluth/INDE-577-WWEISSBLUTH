{
 "cells": [
  {
   "cell_type": "markdown",
   "metadata": {},
   "source": [
    "# Gradient Decent for Multi-Varient Functions\n",
    "\n",
    "$$f(w)=w_0^2+w_1^2+f'(x)\\\\\n",
    "\\frac{df}{dw_0}=2w_0\\\\\n",
    "\\frac{df}{dw_1}=2w_1\\\\\n",
    "\\nabla f=\\begin{bmatrix} 2w_0\\\\2w_1\\end{bmatrix}$$\n",
    "\n",
    "## Potential Errors with Formulation\n",
    "* If you have local minima, the function might assume that that local minima is the global minima\n"
   ]
  },
  {
   "cell_type": "markdown",
   "metadata": {},
   "source": []
  },
  {
   "cell_type": "markdown",
   "metadata": {},
   "source": []
  }
 ],
 "metadata": {
  "language_info": {
   "name": "python"
  }
 },
 "nbformat": 4,
 "nbformat_minor": 2
}
