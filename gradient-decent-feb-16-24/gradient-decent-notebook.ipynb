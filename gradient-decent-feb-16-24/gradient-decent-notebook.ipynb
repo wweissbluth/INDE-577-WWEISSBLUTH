{
 "cells": [
  {
   "cell_type": "markdown",
   "metadata": {},
   "source": [
    "# Gradient Decent\n",
    "This is a first order optimization method for solving single _min()_ or _max()f_ of single varient functions.\n",
    "\n",
    "$$min f(x), \\forall x\\in \\mathbb{R}$$\n",
    "\n",
    "## Why?\n",
    "\n",
    "Becuase we want to minimize the cost/loss functions of our neural network.\n",
    "\n",
    "## Example Function"
   ]
  },
  {
   "cell_type": "markdown",
   "metadata": {},
   "source": []
  }
 ],
 "metadata": {
  "language_info": {
   "name": "python"
  }
 },
 "nbformat": 4,
 "nbformat_minor": 2
}
